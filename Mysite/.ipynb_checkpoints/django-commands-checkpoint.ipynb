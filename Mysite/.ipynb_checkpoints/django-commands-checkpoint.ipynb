{
 "cells": [
  {
   "cell_type": "code",
   "execution_count": null,
   "id": "c855d1a2",
   "metadata": {},
   "outputs": [],
   "source": [
    "# Установка и создание проекта\n",
    "\n",
    "pip install django # Устанавливаем модуль Django\n",
    "django-admin startproject MySite # Создаем новый проект MySite\n",
    "python manage.py runserver # Запуск виртуального сервера"
   ]
  },
  {
   "cell_type": "code",
   "execution_count": null,
   "id": "235c54da",
   "metadata": {},
   "outputs": [],
   "source": [
    "# Создание и регистрация приложения\n",
    "\n",
    "python manage.py startapp films # Создаем приложение films\n",
    "python manage.py makemigrations # Создает, но не применяет миграции для приложения\n",
    "python manage.py migrate # Применяет маграцию. Команда вводится после команды makemigrations"
   ]
  },
  {
   "cell_type": "code",
   "execution_count": null,
   "id": "f355e346",
   "metadata": {},
   "outputs": [],
   "source": [
    "# Создание суперпользователя\n",
    "\n",
    "python manage.py createsuperuser # Создаем суперпользователя"
   ]
  },
  {
   "cell_type": "code",
   "execution_count": null,
   "id": "c4953555",
   "metadata": {},
   "outputs": [],
   "source": [
    "# Создание медиа-библиотеки для хранения файлов\n",
    "\n",
    "MEDIA_ROOT = os.path.join(BASE_DIR, 'media') # Прописываем в файле settings.py после STATIC_URL\n",
    "\n",
    "# Затем создаем в проекте новую папку(директорию) media\n",
    "\n",
    "# В файле settings.py импортируем модуль os (import os)\n",
    "\n",
    "MEDIA_URL = '/media/' # Прописываем адрес, по которому директория будет доступна\n",
    "\n",
    "from django.conf import settings # В файле urls.py импортируем настройки из джанго\n",
    "\n",
    "from django.conf.urls.static import static # Затем импортируем из джанго настройки статичных изображений"
   ]
  },
  {
   "cell_type": "code",
   "execution_count": null,
   "id": "aef45113",
   "metadata": {},
   "outputs": [],
   "source": [
    "# Временная настройка главной страницы - на время разработки.\n",
    "\n",
    "# В файле urls.py прописываем:\n",
    "\n",
    "if settings.DEBUG:\n",
    "    urlpatterns += static(settings.MEDIA_URL, document_root = settings.MEDIA_ROOT)\n",
    "    \n",
    "# Т.е если в файле settings у DEBUG включено TRUE, то в urlpatterns добавляется адрес сервера, т.е идет эмуляция работы сервера\n",
    "\n",
    "path('', admin.site.urls)  # В urlpatterns прописываем, чтобы по адресу эмуляции сервера всегда открывалась админ-панель"
   ]
  },
  {
   "cell_type": "code",
   "execution_count": null,
   "id": "7ac04cd4",
   "metadata": {},
   "outputs": [],
   "source": [
    "# Создание моделей. Все модели создаются на основе классов(ООП). Прописываются в файле models.py\n",
    "\n",
    "class Film(models.Model): # Создаем класс Film\n",
    "    '''Информация о фильме'''\n",
    "    title = models.CharField(max_length = 100) # Поле для названия\n",
    "    imag = models.ImageField(upload_to='image/&Y') # Поле для картинки(&Y - авто-сортировка в папке по годам)\n",
    "    description = models.TextField(blank=True) # Поле для краткого описания(blanc=True - поле не обязательно для заполнения)\n",
    "    date_publ = models.DateField('Дата выхода')\n",
    "\n",
    "# Создаем миграцию python manage.py makemigrations\n",
    "# Затем применяем миграцию python manage.py migrate\n",
    "# Если возникнет ошибка fields.E210, то нужно установить библиотеку для работы с изображениями pip install Pillow\n",
    "# После установки снова создаем и применяем миграции\n"
   ]
  },
  {
   "cell_type": "code",
   "execution_count": null,
   "id": "bc937588",
   "metadata": {},
   "outputs": [],
   "source": [
    "# Регистрация моделей в админ-панели - после создания модели её нужно зарегистрировать\n",
    "\n",
    "from .models import Film # В файле admin.py импортируем созданную модель\n",
    "\n",
    "# Чтобы в админ панели выводилось нормальное название фильма, а не film.object1, нужно в файле\n",
    "# models.py в модель добавить функцию:\n",
    "\n",
    "    def __str__(self):\n",
    "        return f'{self.title}, {self.date_publ}' # Возвращает в буквенном значении название и дату фильма\n",
    "\n",
    "# Затем регистрируем модель в админ панели(чтобы она там отображалась)\n",
    "\n",
    "@admin.register(Film) # обрамляем класс в декоратор\n",
    "class FilmAdmin(admin.ModelAdmin): # Создаем класс FilmAdmin на базе модели ModelAdmin\n",
    "    list_display = ('title', 'date_publ') # в панели будет выводится название фильма и дата выпуска\n",
    "    \n"
   ]
  }
 ],
 "metadata": {
  "kernelspec": {
   "display_name": "Python 3 (ipykernel)",
   "language": "python",
   "name": "python3"
  },
  "language_info": {
   "codemirror_mode": {
    "name": "ipython",
    "version": 3
   },
   "file_extension": ".py",
   "mimetype": "text/x-python",
   "name": "python",
   "nbconvert_exporter": "python",
   "pygments_lexer": "ipython3",
   "version": "3.9.12"
  }
 },
 "nbformat": 4,
 "nbformat_minor": 5
}
