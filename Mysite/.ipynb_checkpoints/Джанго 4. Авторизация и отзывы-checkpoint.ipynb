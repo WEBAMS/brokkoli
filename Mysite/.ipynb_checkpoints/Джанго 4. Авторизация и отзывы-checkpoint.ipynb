{
 "cells": [
  {
   "cell_type": "code",
   "execution_count": null,
   "id": "59493a6b",
   "metadata": {},
   "outputs": [],
   "source": [
    "# Создадим в файле models.py новую модель для хранения отзывов\n",
    "\n",
    "# ForeignKey - связывает модели по первичному ключу. В скобках указываем с какой моделью связываем(Film)\n",
    "\n",
    "# on_delete=models.CASCADE - настойка указывает, что произойдет, если удалить что-то связанное между собой:\n",
    "# Если удалим Фильм, то автоматически удалятся и отзывы на него.\n",
    "\n",
    "class Reviews(models.Model):\n",
    "    '''Отзывы'''\n",
    "    email = models.EmailField()\n",
    "    name = models.CharField('Имя', max_length=50)\n",
    "    text_revievs = models.TextField('Текст отзыва', max_length=3000)\n",
    "    film = models.ForeignKey(Film, verbose_name='Фильм', on_delete=models.CASCADE)\n",
    "\n",
    "    def __str__(self):\n",
    "        return f'{self.name}, {self.film}'\n",
    "\n",
    "    class Meta:\n",
    "        verbose_name = 'Отзыв'\n",
    "        verbose_name_plural = 'Отзывы'\n",
    "\n",
    "# После создания модели её нужно зарегистрировать в админ-панели(admin.py).\n",
    "# Импортируем её: from .models import Film, Genre, Direction, Reviews\n",
    "# Затем регистрируем:\n",
    "\n",
    "@admin.register(Reviews)\n",
    "class ReviewsAdmin(admin.ModelAdmin):\n",
    "    list_display = ('name', 'film')\n",
    "    \n",
    "# После регистрации модели нужно применить миграции.\n",
    "\n",
    "python manage.py makemigrations\n",
    "python manage.py migrate"
   ]
  },
  {
   "cell_type": "code",
   "execution_count": null,
   "id": "7a4ab466",
   "metadata": {},
   "outputs": [],
   "source": [
    "# Далее отображаем форму отзыва на странице фильма(film_detail.html)\n",
    "# указываем method=\"post\", т.к есть личная информация(email)\n",
    "\n",
    "<div>\n",
    "        <span>Оставить отзыв</span>\n",
    "        <form action=\"{% url 'add_review' film.id %}\" method=\"post\"> # url add_review позже пропишем в файле urls.py\n",
    "            <div>\n",
    "                <label>Ваш отзыв</label>\n",
    "                <textarea name=\"text_revievs\"</textarea> # параметр name указываем text_revievs из модели Reviews\n",
    "            </div>\n",
    "            <div>\n",
    "                <label>Ваше имя</label>\n",
    "                <input type=\"text\" name=\"name\"> # параметр name указываем name из модели Reviews\n",
    "            </div>\n",
    "            <div>\n",
    "                <label>Ваш Email</label>\n",
    "                <input type=\"email\" name=\"email\"> # параметр name указываем email из модели Reviews\n",
    "            </div>\n",
    "            <div>\n",
    "                <input type=\"submit\"> # Кнопка \"Отправить\"\n",
    "            </div>\n",
    "        </form>\n",
    "    </div>"
   ]
  },
  {
   "cell_type": "code",
   "execution_count": null,
   "id": "5ebb061a",
   "metadata": {},
   "outputs": [],
   "source": [
    "# Чтобы \"оживить\" форму отзывов на странице, нужно снова написать представление в файле views.py и обработчик в urls.py\n",
    "# В файле views.py импортируем функцию redirect\n",
    "\n",
    "from django.shortcuts import render, redirect\n",
    "\n",
    "# Создаем класс для добавления отзывов\n",
    "\n",
    "class AddReview(View):\n",
    "    '''Добавление отзыва'''\n",
    "    def post(self, request, pk): # функция получает запрос request пользователя id(pk) отзыва\n",
    "        print(request.POST)\n",
    "        return redirect('/') # Перенаправление страницы после добавлния отзыва"
   ]
  },
  {
   "cell_type": "code",
   "execution_count": null,
   "id": "80aa6610",
   "metadata": {},
   "outputs": [],
   "source": [
    "# В urls.py создаем обработчик\n",
    "\n",
    "# name='add_review' - имя из формы action в файле film_detail.html\n",
    "\n",
    "# В urlpatterns добавляем строку:\n",
    "path('reviews/<int:pk>', views.AddReview.as_view(), name='add_review') # Отзывы на странице reviews получают конкретный id(pk)\n"
   ]
  },
  {
   "cell_type": "code",
   "execution_count": null,
   "id": "3801a303",
   "metadata": {},
   "outputs": [],
   "source": [
    "# Для защиты от межсайтовых запросов нужно на странице film_detail.html в коде запроса формы прописать {% csrf_token %}\n",
    "\n",
    "<form action=\"{% url 'add_review' film.id %}\" method=\"post\">\n",
    "    {% csrf_token %}\n",
    "<div>"
   ]
  },
  {
   "cell_type": "code",
   "execution_count": null,
   "id": "44ea95ab",
   "metadata": {},
   "outputs": [],
   "source": [
    "# Создание валидации формы отправки отзывов в файле form.py\n",
    "\n",
    "# импортируем модули forms и Reviews\n",
    "\n",
    "from django import forms\n",
    "from .models import Reviews\n",
    "\n",
    "# Создаем класс формы\n",
    "\n",
    "class RewiewForm(forms.ModelForm):\n",
    "    '''Форма отзывов'''\n",
    "    class Meta: # В классе Меta укажем какую модель подключить и какие поля из формы получать\n",
    "        model = Reviews\n",
    "        fields = ('name', 'email', 'text_revievs')\n",
    "\n",
    "# Затем в файле Views.py импортируем(подключаем) эту форму\n",
    "\n",
    "from .form import RewiewForm\n",
    "\n",
    "# Затем в этом же файле изменяем форму добавления отзывов, т.к тестирование было успешным\n",
    "\n",
    "class AddReview(View):\n",
    "    '''Добавление отзыва'''\n",
    "    def post(self, request, pk):\n",
    "        form = RewiewForm(request.POST)\n",
    "        if form.is_valid(): # Если форма валидна\n",
    "            form = form.save(commit=False) # то данные формы сохраняются в БД\n",
    "            form.film_id = pk\n",
    "            form.save()\n",
    "        return redirect('/')"
   ]
  }
 ],
 "metadata": {
  "kernelspec": {
   "display_name": "Python 3 (ipykernel)",
   "language": "python",
   "name": "python3"
  },
  "language_info": {
   "codemirror_mode": {
    "name": "ipython",
    "version": 3
   },
   "file_extension": ".py",
   "mimetype": "text/x-python",
   "name": "python",
   "nbconvert_exporter": "python",
   "pygments_lexer": "ipython3",
   "version": "3.9.12"
  }
 },
 "nbformat": 4,
 "nbformat_minor": 5
}
