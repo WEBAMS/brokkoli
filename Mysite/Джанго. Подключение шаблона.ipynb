{
 "cells": [
  {
   "cell_type": "code",
   "execution_count": null,
   "id": "6eea4f59",
   "metadata": {},
   "outputs": [],
   "source": [
    "# Будем использовать шаблон из папки \"Шаблон\""
   ]
  },
  {
   "cell_type": "code",
   "execution_count": null,
   "id": "35431ae7",
   "metadata": {},
   "outputs": [],
   "source": [
    "# В главной папке проекта Mysite создадим папку static и регистрируем её в файле settings.py(вложенная папка Mysite)\n",
    "# В разделе STATIC_URL = 'static/' перед словом static ставим слеш \"/\", т.к переход будет из корневого каталога\n",
    "# Под STATIC_URL пишем - STATIC_DIR = os.path.join(BASE_DIR, 'static')(указали главную директорию 'static')\n",
    "# Ниже пишем - STATICFILES_DIRS = [STATIC_DIR] - для нестандартных статических файлов(на всякий случай)\n",
    "# Копируем весь код из index.html файла шаблона и вставляем его в файл film.html(из этого файла весь код предварительно удалить) "
   ]
  },
  {
   "cell_type": "code",
   "execution_count": null,
   "id": "afcf6406",
   "metadata": {},
   "outputs": [],
   "source": [
    "# Подключение стилей style.css\n",
    "\n",
    "# В папке static создаем папку css и переносим в неё файлы стилей(style.css) из папки шаблонов\n",
    "# Затем переносим туда же из шаблона папку с картинками img\n",
    "# В файле film.html перед тегом <head> подгружаем папку static - {% load static %}\n",
    "# Между тегами <head> подключаем стили bootstrap: <link rel=\"stylesheet\" href=\"{ static '/css/bootstrap.min.css' }\">\n",
    "# И также подключаем style.css: <link rel=\"stylesheet\" href=\"{ static '/css/style.css' }\">\n"
   ]
  }
 ],
 "metadata": {
  "kernelspec": {
   "display_name": "Python 3 (ipykernel)",
   "language": "python",
   "name": "python3"
  },
  "language_info": {
   "codemirror_mode": {
    "name": "ipython",
    "version": 3
   },
   "file_extension": ".py",
   "mimetype": "text/x-python",
   "name": "python",
   "nbconvert_exporter": "python",
   "pygments_lexer": "ipython3",
   "version": "3.9.12"
  }
 },
 "nbformat": 4,
 "nbformat_minor": 5
}
