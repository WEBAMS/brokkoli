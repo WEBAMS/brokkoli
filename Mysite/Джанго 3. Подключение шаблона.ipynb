{
 "cells": [
  {
   "cell_type": "code",
   "execution_count": null,
   "id": "75ec4e4a",
   "metadata": {},
   "outputs": [],
   "source": [
    "# Будем использовать шаблон из папки \"Шаблон\"\n",
    "\n",
    "# В главной папке проекта Mysite создадим папку static и регистрируем её в файле settings.py(вложенная папка Mysite)\n",
    "# В разделе STATIC_URL = 'static/' перед словом static ставим слеш \"/\", т.к переход будет из корневого каталога\n",
    "# Под STATIC_URL пишем - STATIC_DIR = os.path.join(BASE_DIR, 'static')(указали главную директорию 'static')\n",
    "# Ниже пишем - STATICFILES_DIRS = [STATIC_DIR] - для нестандартных статических файлов(на всякий случай)\n",
    "# Копируем весь код из index.html файла шаблона и вставляем в файл film.html(из этого файла весь код предварительно удалить) "
   ]
  },
  {
   "cell_type": "code",
   "execution_count": null,
   "id": "1b01d09d",
   "metadata": {},
   "outputs": [],
   "source": [
    "# Подключение стилей style.css\n",
    "\n",
    "# В папке static создаем папку css и переносим в неё файлы стилей(style.css) из папки шаблонов\n",
    "# Затем переносим туда же из шаблона папку с картинками img\n",
    "# В файле film.html перед тегом <head> подгружаем папку static: {% load static %}\n",
    "# Между тегами <head> подключаем стили bootstrap: <link rel=\"stylesheet\" href=\"{% static '/css/bootstrap.min.css' %}\">\n",
    "# И также подключаем style.css: <link rel=\"stylesheet\" href=\"{% static '/css/style.css' %}\">\n",
    "# Подключаем логотип <img class=\"default-logo\" src=\"{% static '/img/logo.png' %}\" data-rjs=\"2\" alt=\"\">"
   ]
  },
  {
   "cell_type": "code",
   "execution_count": null,
   "id": "2c657800",
   "metadata": {},
   "outputs": [],
   "source": [
    "# Выводим нужную информацию на странице\n",
    "\n",
    "# Там, где будет вывод информации, вставляем код цикла {% for film in film_list %} и в конце блока его закрываем {% endfor %}\n",
    "# Между кодом цикла выводим название {{ film.title }} и описание {{ film.description }} фильма\n",
    "# Вставляем картинки-постеры <img src=\"{{ film.imag.url }}\" data-rjs=\"2\" alt=\"\">\n",
    "# Устанавливаем ссылку на страницу фильма <a href=\"/{{ film.url }}/\" class=\"btn-inline\" target=\"_blank\">Перейти</a>\n",
    "# Ссылки на Главную страницу <a href=\"/\">Главная</a> и Авторицация <a href=\"/admin\">Авторизация</a>\n",
    "# Аналогичные действия производим в файле film_detail.html, кроме когда цикла, т.к все фильмы выводить не нужно"
   ]
  },
  {
   "cell_type": "code",
   "execution_count": null,
   "id": "bd3be4bd",
   "metadata": {},
   "outputs": [],
   "source": []
  }
 ],
 "metadata": {
  "kernelspec": {
   "display_name": "Python 3 (ipykernel)",
   "language": "python",
   "name": "python3"
  },
  "language_info": {
   "codemirror_mode": {
    "name": "ipython",
    "version": 3
   },
   "file_extension": ".py",
   "mimetype": "text/x-python",
   "name": "python",
   "nbconvert_exporter": "python",
   "pygments_lexer": "ipython3",
   "version": "3.9.12"
  }
 },
 "nbformat": 4,
 "nbformat_minor": 5
}
